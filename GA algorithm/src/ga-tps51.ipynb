{
 "cells": [
  {
   "cell_type": "code",
   "execution_count": 68,
   "metadata": {},
   "outputs": [],
   "source": [
    "import numpy as np\n",
    "import matplotlib as mplt\n",
    "import pandas as pd\n",
    "import random\n",
    "import math"
   ]
  },
  {
   "cell_type": "markdown",
   "metadata": {},
   "source": [
    "Config"
   ]
  },
  {
   "cell_type": "code",
   "execution_count": 69,
   "metadata": {},
   "outputs": [],
   "source": [
    "data_path = \"res/data.csv\"\n",
    "N = 51 #Number of node\n",
    "M = 100 #Population size\n"
   ]
  },
  {
   "cell_type": "markdown",
   "metadata": {},
   "source": [
    "Global variable"
   ]
  },
  {
   "cell_type": "code",
   "execution_count": 70,
   "metadata": {},
   "outputs": [],
   "source": [
    "D = np.zeros((N,N)) # Mattrix distance betwen each node"
   ]
  },
  {
   "cell_type": "markdown",
   "metadata": {},
   "source": [
    "Input"
   ]
  },
  {
   "cell_type": "code",
   "execution_count": 71,
   "metadata": {},
   "outputs": [
    {
     "data": {
      "text/plain": [
       "array([[ 0.        , 12.36931688, 19.20937271, ..., 26.40075756,\n",
       "        24.20743687, 13.89244399],\n",
       "       [12.36931688,  0.        , 15.29705854, ..., 21.02379604,\n",
       "        13.89244399, 21.02379604],\n",
       "       [19.20937271, 15.29705854,  0.        , ..., 36.22154055,\n",
       "        27.29468813, 32.55764119],\n",
       "       ...,\n",
       "       [26.40075756, 21.02379604, 36.22154055, ...,  0.        ,\n",
       "        12.04159458, 21.63330765],\n",
       "       [24.20743687, 13.89244399, 27.29468813, ..., 12.04159458,\n",
       "         0.        , 26.17250466],\n",
       "       [13.89244399, 21.02379604, 32.55764119, ..., 21.63330765,\n",
       "        26.17250466,  0.        ]])"
      ]
     },
     "execution_count": 71,
     "metadata": {},
     "output_type": "execute_result"
    }
   ],
   "source": [
    "node_pd = pd.read_csv(\"../\"+data_path, sep = \" \", usecols=[1,2])\n",
    "node = node_pd.to_numpy()\n",
    "for i in range(N):\n",
    "    for j in range(N):\n",
    "        if (i == j) : continue\n",
    "        D[i][j] = math.sqrt(sum((node[i] - node[j])*(node[i] - node[j])))\n",
    "\n",
    "D"
   ]
  },
  {
   "cell_type": "markdown",
   "metadata": {},
   "source": [
    "Generate first generation"
   ]
  },
  {
   "cell_type": "code",
   "execution_count": 72,
   "metadata": {},
   "outputs": [],
   "source": [
    "class Sample:\n",
    "\n",
    "    def __init__(self):\n",
    "        self.path = np.zeros(N, dtype='int') - 1\n",
    "        self.weight = 0"
   ]
  },
  {
   "cell_type": "code",
   "execution_count": 73,
   "metadata": {},
   "outputs": [],
   "source": [
    "def weight(path):\n",
    "    global D\n",
    "    weight = 0\n",
    "    for i in range(1, N):\n",
    "        weight = weight + D[path[i-1]][path[i]]\n",
    "\n",
    "    weight = weight+ D[path[N-1]][path[0]]\n",
    "    return weight"
   ]
  },
  {
   "cell_type": "code",
   "execution_count": null,
   "metadata": {},
   "outputs": [
    {
     "ename": "",
     "evalue": "",
     "output_type": "error",
     "traceback": [
      "\u001b[1;31mFailed to start the Kernel. \n",
      "Canceled. \n",
      "View Jupyter <a href='command:jupyter.viewOutput'>log</a> for further details."
     ]
    }
   ],
   "source": [
    "def checkSolution(s:Sample):\n",
    "    check = True\n",
    "    for i in range(N):\n",
    "        if i not in s.path:\n",
    "            check = False\n",
    "            break\n",
    "    return check"
   ]
  },
  {
   "cell_type": "code",
   "execution_count": 75,
   "metadata": {},
   "outputs": [],
   "source": [
    "population = []\n",
    "def init_population():\n",
    "    global M, N, population\n",
    "    population = []\n",
    "    for i in range(M):\n",
    "        path = random.sample(range(N),N)\n",
    "        w = weight(path)\n",
    "        sample = Sample()\n",
    "        sample.path = path\n",
    "        sample.weight = w\n",
    "        population.append(sample)"
   ]
  },
  {
   "cell_type": "markdown",
   "metadata": {},
   "source": [
    "Operator"
   ]
  },
  {
   "cell_type": "code",
   "execution_count": 76,
   "metadata": {},
   "outputs": [],
   "source": [
    "def hybridize(s1:Sample, s2: Sample):\n",
    "    s3 = Sample()\n",
    "    p = random.randint(0, N-1)\n",
    "\n",
    "    for i in range (p, N):\n",
    "        s3.path[i-p] = s2.path[i]\n",
    "\n",
    "    k = N-p\n",
    "    for a in s1.path:\n",
    "        if a not in s3.path:\n",
    "            s3.path[k] = a\n",
    "            k = k+1\n",
    "            if (k >= N ) :break\n",
    "    s3.weight = weight(s3.path)\n",
    "    return s3\n"
   ]
  },
  {
   "cell_type": "code",
   "execution_count": 77,
   "metadata": {},
   "outputs": [],
   "source": [
    "def mutate(s:Sample):\n",
    "    s_child = Sample()\n",
    "    s_child.path = s.path.copy()\n",
    "    mutateCoefficient = int(N*0.1)\n",
    "    count = random.randint(0, mutateCoefficient)\n",
    "    for i in range(count):\n",
    "        p1 = random.randint(0,N-1)\n",
    "        p2 = random.randint(0,N-1)\n",
    "\n",
    "        temp = s_child.path[p1]\n",
    "        s_child.path[p1] = s_child.path[p2]\n",
    "        s_child.path[p2] = temp\n",
    "\n",
    "    s_child.weight = weight(s_child.path)\n",
    "    return s_child\n"
   ]
  },
  {
   "cell_type": "code",
   "execution_count": 78,
   "metadata": {},
   "outputs": [],
   "source": [
    "def sortPopulation():\n",
    "    global population\n",
    "    "
   ]
  },
  {
   "cell_type": "markdown",
   "metadata": {},
   "source": [
    "GA algorithm"
   ]
  },
  {
   "cell_type": "code",
   "execution_count": 88,
   "metadata": {},
   "outputs": [],
   "source": [
    "def GA(fitness_threshold, M, r, m):\n",
    "    global population\n",
    "\n",
    "    solution = Sample()\n",
    "    solution.weight = 9999999\n",
    "\n",
    "    init_population()\n",
    "    population.sort(key= lambda x: x.weight)\n",
    "\n",
    "    num_standard_sample = int((1-r)*M)\n",
    "    num_hybrid_sample = M - num_standard_sample\n",
    "\n",
    "    while (fitness_threshold > 0):\n",
    "        fitness_threshold = fitness_threshold -1\n",
    "        #Hybridize\n",
    "        new_population = []\n",
    "        new_population = population[: num_standard_sample]\n",
    "\n",
    "        hybridize_pop = random.sample(population, num_hybrid_sample)\n",
    "        random.shuffle(hybridize_pop)\n",
    "\n",
    "        i = 0\n",
    "        while i < int(num_hybrid_sample):\n",
    "            s1 = hybridize(hybridize_pop[i], hybridize_pop[i+1])\n",
    "            s2 = hybridize(hybridize_pop[i+1], hybridize_pop[i])\n",
    "            new_population.append(s1)\n",
    "            new_population.append(s2)\n",
    "            i = i + 2\n",
    "\n",
    "        for sample in new_population:\n",
    "            a1 = mutate(sample)\n",
    "            sample = a1\n",
    "\n",
    "        population = new_population\n",
    "        population.sort(key= lambda x: x.weight)\n",
    "\n",
    "        if (population[0].weight < solution.weight):\n",
    "            solution.path = population[0].path\n",
    "            solution.weight = population[0].weight\n",
    "\n",
    "        \n",
    "    return solution\n"
   ]
  },
  {
   "cell_type": "code",
   "execution_count": 89,
   "metadata": {},
   "outputs": [],
   "source": [
    "solution = GA(1000, M, 0.5, 0.2)"
   ]
  },
  {
   "cell_type": "code",
   "execution_count": 90,
   "metadata": {},
   "outputs": [
    {
     "name": "stdout",
     "output_type": "stream",
     "text": [
      "[26  5 25 30 27  7 47 22  6 42 23 13 24 17  3 12 40 18 39 41 16 46 45 10\n",
      " 31 21  0  1 19  2 35 34 28 20 49 33  8 15 37  4 48 38 29  9 32 44 14 43\n",
      " 36 11 50]\n",
      "503.00533817651944\n"
     ]
    }
   ],
   "source": [
    "print(solution.path)\n",
    "print(solution.weight)\n"
   ]
  },
  {
   "cell_type": "code",
   "execution_count": 91,
   "metadata": {},
   "outputs": [
    {
     "name": "stdout",
     "output_type": "stream",
     "text": [
      "[28 15 10 31 50 45 11 46  3 17 16 36 14 32 44 43 41 18 39 40 12 24 13 23\n",
      " 42  6 22  5 47 26  0 21 27  7 25 30  2 35 34 19  1 37  4 48  9 38 29 33\n",
      "  8 49 20]\n",
      "466.7547525135038\n"
     ]
    }
   ],
   "source": [
    "solution = GA(5000, M, 0.5, 0.2)\n",
    "print(solution.path)\n",
    "print(solution.weight)"
   ]
  },
  {
   "cell_type": "code",
   "execution_count": 92,
   "metadata": {},
   "outputs": [
    {
     "name": "stdout",
     "output_type": "stream",
     "text": [
      "[30 25  7 47  5 22  6 42 23 13 24 17 46 11 45 50 26  1 28 20 15 49 33 29\n",
      "  8 48  9 38 32 44 14 43 41 18 39 40 12  3 16 36  4 37 10 31  0 21 19 34\n",
      " 35  2 27]\n",
      "446.6227640876554\n"
     ]
    }
   ],
   "source": [
    "solution = GA(10000, M, 0.5, 0.2)\n",
    "print(solution.path)\n",
    "print(solution.weight)"
   ]
  },
  {
   "cell_type": "code",
   "execution_count": 93,
   "metadata": {},
   "outputs": [
    {
     "name": "stdout",
     "output_type": "stream",
     "text": [
      "[37  4 11 46 17  3 41 18 39 40 12 24 13 23 42  6 22 47  5 26 45 50 16 36\n",
      " 43 14 44 32 38  9 48  8 49 15 19 34 35  2 27 30 25  7 21  0 31 10  1 28\n",
      " 20 33 29]\n",
      "458.47354261492757\n"
     ]
    }
   ],
   "source": [
    "solution = GA(100000, M, 0.5, 0.2)\n",
    "print(solution.path)\n",
    "print(solution.weight)"
   ]
  }
 ],
 "metadata": {
  "interpreter": {
   "hash": "916dbcbb3f70747c44a77c7bcd40155683ae19c65e1c03b4aa3499c5328201f1"
  },
  "kernelspec": {
   "display_name": "Python 3.8.10 64-bit",
   "language": "python",
   "name": "python3"
  },
  "language_info": {
   "codemirror_mode": {
    "name": "ipython",
    "version": 3
   },
   "file_extension": ".py",
   "mimetype": "text/x-python",
   "name": "python",
   "nbconvert_exporter": "python",
   "pygments_lexer": "ipython3",
   "version": "3.8.10"
  },
  "orig_nbformat": 4
 },
 "nbformat": 4,
 "nbformat_minor": 2
}
