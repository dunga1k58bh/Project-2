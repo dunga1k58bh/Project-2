solution = GA(10000, M, 0.5, 0.2)
print(solution.path)
print(solution.weight)